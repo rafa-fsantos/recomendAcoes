{
 "cells": [
  {
   "cell_type": "markdown",
   "metadata": {},
   "source": [
    "<!-- Projeto desenvolvido por Rafael F. Santos - mfa.rafael@gmail.com-->\n",
    "# <font color='blue'>Sistema de Recomendação de Ações da B3 utilizando Vetores e Espaço Vetorial</font>"
   ]
  },
  {
   "cell_type": "markdown",
   "metadata": {},
   "source": [
    "### 1. Definição do Problema:"
   ]
  },
  {
   "cell_type": "markdown",
   "metadata": {},
   "source": [
    "**Objetivo:**  \n",
    "Desenvolver um sistema de recomendação de ações da B3 (Bolsa de Valores do Brasil) que, dado um ticker informado, sugira outras ações relacionadas com base na classificação setorial das empresas. A solução deve considerar os seguintes critérios de classificação:  \n",
    "\n",
    "1. **Setor Econômico**  \n",
    "2. **Subsetor**  \n",
    "3. **Segmento**  \n",
    "4. **Segmento de Listagem da B3**"
   ]
  },
  {
   "cell_type": "markdown",
   "metadata": {},
   "source": [
    "**Motivação:**  \n",
    "Investidores frequentemente buscam diversificar suas carteiras com ações de empresas que possuam semelhanças setoriais ou que operem em mercados relacionados. Entretanto, a identificação manual dessas ações pode ser demorada e suscetível a erros. Um sistema de recomendação automatizado pode auxiliar nesse processo, oferecendo sugestões precisas e fundamentadas para facilitar a tomada de decisão."
   ]
  },
  {
   "cell_type": "markdown",
   "metadata": {},
   "source": [
    "**Desafio:**  \n",
    "- Criar um modelo capaz de analisar o ticker fornecido e, com base na classificação setorial, identificar ações correlacionadas.  \n",
    "- Garantir que o sistema seja capaz de lidar com atualizações periódicas nos dados das empresas listadas na B3.  \n",
    "- Gerar recomendações úteis e relevantes para diferentes perfis de investidores."
   ]
  },
  {
   "cell_type": "markdown",
   "metadata": {},
   "source": [
    "**Produto Esperado:**  \n",
    "Um sistema de recomendação que forneça uma lista de ações relacionadas ao ticker informado, permitindo aos usuários explorar outras opções dentro do mesmo setor ou setores correlacionados, com transparência nos critérios de recomendação."
   ]
  },
  {
   "cell_type": "markdown",
   "metadata": {},
   "source": [
    "### 2. Instalando e Carregando Pacotes"
   ]
  },
  {
   "cell_type": "code",
   "execution_count": 2,
   "metadata": {},
   "outputs": [],
   "source": [
    "# Instalação/atualização de pacotes, se necessário!\n",
    "\n",
    "# Depois de instalar ou atualizar o pacote, reinicie o jupyter notebook.\n",
    "# !pip install -q -U nltk\n",
    "# !pip install -q -U numpy\n",
    "# !pip install -q -U pandas\n",
    "# !pip install -q -U scikit-learn\n",
    "# !pip install -q -U watermark"
   ]
  },
  {
   "cell_type": "code",
   "execution_count": 3,
   "metadata": {},
   "outputs": [],
   "source": [
    "# Importação das bibliotecas\n",
    "import numpy as np\n",
    "import pandas as pd\n",
    "import warnings\n",
    "warnings.filterwarnings('ignore')"
   ]
  },
  {
   "cell_type": "markdown",
   "metadata": {},
   "source": [
    "### 3. Coleta de Dados\n",
    "\n",
    "A **classificação setorial da B3** organiza as empresas listadas na bolsa brasileira em categorias hierárquicas, facilitando a análise e comparação entre companhias de setores semelhantes. Essa estrutura é dividida em três níveis:\n",
    "\n",
    "1. **Setor Econômico**: a categoria mais ampla, agrupando empresas de acordo com a natureza geral de suas atividades.\n",
    "\n",
    "2. **Subsetor**: uma subdivisão dentro do setor econômico, que refina a classificação com base em características mais específicas das operações das empresas.\n",
    "\n",
    "3. **Segmento**: a categoria mais específica, detalhando ainda mais as particularidades das atividades empresariais.\n",
    "\n",
    "Essa classificação auxilia investidores e analistas a compreenderem melhor o mercado, permitindo comparações mais precisas entre empresas de um mesmo segmento ou setor.\n",
    "\n",
    "Para acessar a classificação setorial completa e atualizada, a B3 disponibiliza um documento oficial em seu site. Você pode baixá-lo diretamente através do seguinte link:\n",
    "\n",
    "[Classificação Setorial - B3](https://www.b3.com.br/pt_br/produtos-e-servicos/negociacao/renda-variavel/acoes/consultas/classificacao-setorial/)\n",
    "\n",
    "Este documento é uma referência valiosa para quem deseja aprofundar-se na estrutura setorial das empresas negociadas na B3 e é a base de dados que será utilizada neste projeto.\n",
    "\n"
   ]
  },
  {
   "cell_type": "markdown",
   "metadata": {},
   "source": []
  }
 ],
 "metadata": {
  "kernelspec": {
   "display_name": "dsa",
   "language": "python",
   "name": "python3"
  },
  "language_info": {
   "codemirror_mode": {
    "name": "ipython",
    "version": 3
   },
   "file_extension": ".py",
   "mimetype": "text/x-python",
   "name": "python",
   "nbconvert_exporter": "python",
   "pygments_lexer": "ipython3",
   "version": "3.12.7"
  }
 },
 "nbformat": 4,
 "nbformat_minor": 2
}
